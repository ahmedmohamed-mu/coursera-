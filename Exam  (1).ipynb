{
 "cells": [
  {
   "cell_type": "markdown",
   "id": "407497f7",
   "metadata": {},
   "source": [
    " The Title of the note book is Exam "
   ]
  },
  {
   "cell_type": "markdown",
   "id": "e5a24632",
   "metadata": {},
   "source": [
    "This cell is for introduction :\n",
    "In THis Juypter Notebook I will do the Tasks "
   ]
  },
  {
   "cell_type": "markdown",
   "id": "0f6525c2",
   "metadata": {},
   "source": [
    "This cell is for data science Languages : \n",
    "Python , R , SQL , Scala ,Julia"
   ]
  },
  {
   "cell_type": "markdown",
   "id": "45b904c7",
   "metadata": {},
   "source": [
    "This cell is for data science libiries : \n",
    "Numpy, pandas,Matplotlib,seaborn,Tensorflow"
   ]
  },
  {
   "cell_type": "markdown",
   "id": "e1c366ea",
   "metadata": {},
   "source": [
    "This cell is for data science Tools :\n",
    "Python , R Studio, Juypter notebook , Apache Spark ,..."
   ]
  },
  {
   "cell_type": "markdown",
   "id": "906b8e53",
   "metadata": {},
   "source": [
    "This cell is for introducing arithmetic expression examples :\n",
    "(5+4)*2=18\n",
    "(2*8)+6=22"
   ]
  },
  {
   "cell_type": "code",
   "execution_count": 1,
   "id": "69192653",
   "metadata": {
    "scrolled": true
   },
   "outputs": [
    {
     "name": "stdout",
     "output_type": "stream",
     "text": [
      "22\n"
     ]
    }
   ],
   "source": [
    "print((5+6)*2)"
   ]
  },
  {
   "cell_type": "code",
   "execution_count": 2,
   "id": "2dec5038",
   "metadata": {},
   "outputs": [
    {
     "name": "stdout",
     "output_type": "stream",
     "text": [
      "1.0\n"
     ]
    }
   ],
   "source": [
    "minutes = 60\n",
    "hour = minutes/60\n",
    "print(hour)"
   ]
  },
  {
   "cell_type": "markdown",
   "id": "ed461bdc",
   "metadata": {},
   "source": [
    "This cell is for List objectives :\n",
    "Data analysis,exploration,Machine learning, Collaborative work, knowledge sharing"
   ]
  },
  {
   "cell_type": "markdown",
   "id": "3ed1ab08",
   "metadata": {},
   "source": [
    "The Author's name:\n",
    " Ahmed mohamed mohamed mostafa "
   ]
  }
 ],
 "metadata": {
  "kernelspec": {
   "display_name": "Python 3 (ipykernel)",
   "language": "python",
   "name": "python3"
  },
  "language_info": {
   "codemirror_mode": {
    "name": "ipython",
    "version": 3
   },
   "file_extension": ".py",
   "mimetype": "text/x-python",
   "name": "python",
   "nbconvert_exporter": "python",
   "pygments_lexer": "ipython3",
   "version": "3.11.4"
  }
 },
 "nbformat": 4,
 "nbformat_minor": 5
}
